{
 "cells": [
  {
   "cell_type": "code",
   "execution_count": 1,
   "id": "initial_id",
   "metadata": {
    "ExecuteTime": {
     "end_time": "2024-05-18T03:22:54.851381Z",
     "start_time": "2024-05-18T03:22:54.832434Z"
    }
   },
   "outputs": [
    {
     "name": "stderr",
     "output_type": "stream",
     "text": [
      "2024-05-18 20:39:28.948782: I tensorflow/stream_executor/platform/default/dso_loader.cc:53] Successfully opened dynamic library libcudart.so.11.0\n"
     ]
    }
   ],
   "source": [
    "# 导入工具库\n",
    "import os\n",
    "import numpy as np\n",
    "import cv2\n",
    "from glob import glob\n",
    "from sklearn.model_selection import train_test_split\n",
    "import tensorflow as tf\n",
    "from tensorflow.keras.callbacks import ModelCheckpoint, ReduceLROnPlateau\n",
    "from tensorflow.keras.optimizers import Adam\n",
    "from tensorflow.keras.metrics import Recall, Precision"
   ]
  },
  {
   "cell_type": "code",
   "execution_count": 2,
   "id": "71ab45fdb62ac038",
   "metadata": {
    "ExecuteTime": {
     "end_time": "2024-05-18T03:22:54.866854Z",
     "start_time": "2024-05-18T03:22:54.853446Z"
    },
    "collapsed": false,
    "jupyter": {
     "outputs_hidden": false
    }
   },
   "outputs": [],
   "source": [
    "# 读取X射线图像\n",
    "def imageread(path,width=512,height=512):\n",
    "    x = cv2.imread(path, cv2.IMREAD_COLOR)\n",
    "    x = cv2.resize(x, (width, height))\n",
    "    x = x/255.0\n",
    "    x = x.astype(np.float32)\n",
    "    return x\n",
    "# 读取标签蒙版（mask，即和图片同样大小的标签）\n",
    "def maskread(path,width=512,height=512):\n",
    "    x = cv2.imread(path, cv2.IMREAD_GRAYSCALE)\n",
    "    x = cv2.resize(x, (width, height))\n",
    "    x = x/np.max(x)\n",
    "    x = x > 0.5\n",
    "    x = x.astype(np.float32)\n",
    "    x = np.expand_dims(x, axis=-1)\n",
    "    return x"
   ]
  },
  {
   "cell_type": "code",
   "execution_count": 3,
   "id": "836db621d9c32195",
   "metadata": {
    "ExecuteTime": {
     "end_time": "2024-05-18T03:22:54.882602Z",
     "start_time": "2024-05-18T03:22:54.868913Z"
    },
    "collapsed": false,
    "jupyter": {
     "outputs_hidden": false
    }
   },
   "outputs": [],
   "source": [
    "\"\"\"加载与切分数据\"\"\"\n",
    "def load_data(path, split=0.1):\n",
    "    images = sorted(glob(os.path.join(path, \"CXR_png\", \"*.png\")))\n",
    "    masks = sorted(glob(os.path.join(path, \"Mask\", \"*.png\")))\n",
    "    split_size = int(len(images) * split) # 9:1的比例切分\n",
    "    train_x, val_x = train_test_split(images, test_size=split_size, random_state=42)\n",
    "    train_y, val_y = train_test_split(masks, test_size=split_size, random_state=42)\n",
    "    train_x, test_x = train_test_split(train_x, test_size=split_size, random_state=42)\n",
    "    train_y, test_y = train_test_split(train_y, test_size=split_size, random_state=42)\n",
    "    return (train_x, train_y), (val_x, val_y), (test_x, test_y)"
   ]
  },
  {
   "cell_type": "code",
   "execution_count": 4,
   "id": "af11ae30d98f2410",
   "metadata": {
    "ExecuteTime": {
     "end_time": "2024-05-18T03:22:54.898684Z",
     "start_time": "2024-05-18T03:22:54.884659Z"
    },
    "collapsed": false,
    "jupyter": {
     "outputs_hidden": false
    }
   },
   "outputs": [],
   "source": [
    "# tensor格式转换\n",
    "def tf_parse(x, y):\n",
    "    def _parse(x, y):\n",
    "        x = x.decode()\n",
    "        y = y.decode()\n",
    "        x = imageread(x)\n",
    "        y = maskread(y)\n",
    "        return x, y\n",
    "\n",
    "    x, y = tf.numpy_function(_parse, [x, y], [tf.float32, tf.float32])\n",
    "    x.set_shape([512, 512, 3])\n",
    "    y.set_shape([512, 512, 1])\n",
    "    return x, y\n",
    "\n",
    "\n",
    "# 构建tensorflow dataset\n",
    "def tf_dataset(X, Y, batch=8):\n",
    "    dataset = tf.data.Dataset.from_tensor_slices((X, Y))\n",
    "    dataset = dataset.shuffle(buffer_size=200)\n",
    "    dataset = dataset.map(tf_parse)\n",
    "    dataset = dataset.batch(batch)\n",
    "    dataset = dataset.prefetch(4)\n",
    "    return dataset\n"
   ]
  },
  {
   "cell_type": "code",
   "execution_count": 5,
   "id": "b8e37a2c90718410",
   "metadata": {
    "ExecuteTime": {
     "end_time": "2024-05-18T03:22:54.930018Z",
     "start_time": "2024-05-18T03:22:54.901797Z"
    },
    "collapsed": false,
    "jupyter": {
     "outputs_hidden": false
    }
   },
   "outputs": [],
   "source": [
    "\n",
    "# U-Net 网络构建\n",
    "from tensorflow.keras.layers import Conv2D, BatchNormalization, Activation, MaxPool2D, Conv2DTranspose, Concatenate, \\\n",
    "    Input\n",
    "from tensorflow.keras.models import Model\n",
    "\n",
    "\n",
    "# 一个卷积块结构\n",
    "def conv_block(input, num_filters):\n",
    "    x = Conv2D(num_filters, 3, padding=\"same\")(input)\n",
    "    x = BatchNormalization()(x)\n",
    "    x = Activation(\"relu\")(x)\n",
    "    x = Conv2D(num_filters, 3, padding=\"same\")(x)\n",
    "    x = BatchNormalization()(x)\n",
    "    x = Activation(\"relu\")(x)\n",
    "    return x\n",
    "\n",
    "\n",
    "# 编码器模块\n",
    "def encoder_block(input, num_filters):\n",
    "    x = conv_block(input, num_filters)\n",
    "    p = MaxPool2D((2, 2))(x)\n",
    "    return x, p\n",
    "\n",
    "\n",
    "# 解码器模块\n",
    "def decoder_block(input, skip_features, num_filters):\n",
    "    x = Conv2DTranspose(num_filters, (2, 2), strides=2, padding=\"same\")(input)\n",
    "    x = Concatenate()([x, skip_features])\n",
    "    x = conv_block(x, num_filters)\n",
    "    return x\n",
    "\n",
    "\n",
    "# 完整的U-Net\n",
    "def build_unet(input_shape):\n",
    "    inputs = Input(input_shape)\n",
    "    # 编码器部分\n",
    "    s1, p1 = encoder_block(inputs, 64)\n",
    "    s2, p2 = encoder_block(p1, 128)\n",
    "    s3, p3 = encoder_block(p2, 256)\n",
    "    s4, p4 = encoder_block(p3, 512)\n",
    "    b1 = conv_block(p4, 1024)\n",
    "    # 解码器部分\n",
    "    d1 = decoder_block(b1, s4, 512)\n",
    "    d2 = decoder_block(d1, s3, 256)\n",
    "    d3 = decoder_block(d2, s2, 128)\n",
    "    d4 = decoder_block(d3, s1, 64)\n",
    "    # 输出\n",
    "    outputs = Conv2D(1, 1, padding=\"same\", activation=\"sigmoid\")(d4)\n",
    "    model = Model(inputs, outputs, name=\"U-Net\")\n",
    "    return model\n"
   ]
  },
  {
   "cell_type": "code",
   "execution_count": 6,
   "id": "861d348d9195c383",
   "metadata": {
    "ExecuteTime": {
     "end_time": "2024-05-18T03:22:54.945860Z",
     "start_time": "2024-05-18T03:22:54.932072Z"
    },
    "collapsed": false,
    "jupyter": {
     "outputs_hidden": false
    }
   },
   "outputs": [],
   "source": [
    "# 评估准则与损失函数\n",
    "# IoU计算\n",
    "def iou(y_true, y_pred):\n",
    "    def f(y_true, y_pred):\n",
    "        intersection = (y_true * y_pred).sum()\n",
    "        union = y_true.sum() + y_pred.sum() - intersection\n",
    "        x = (intersection + 1e-15) / (union + 1e-15)\n",
    "        x = x.astype(np.float32)\n",
    "        return x\n",
    "    return tf.numpy_function(f, [y_true, y_pred], tf.float32)\n",
    "# Dice Loss定义\n",
    "smooth = 1e-15\n",
    "def dice_coef(y_true, y_pred):\n",
    "    y_true = tf.keras.layers.Flatten()(y_true)\n",
    "    y_pred = tf.keras.layers.Flatten()(y_pred)\n",
    "    intersection = tf.reduce_sum(y_true * y_pred)\n",
    "    return (2. * intersection + smooth) / (tf.reduce_sum(y_true) + tf.reduce_sum(y_pred) + smooth)\n",
    "def dice_loss(y_true, y_pred):\n",
    "    return 1.0 - dice_coef(y_true, y_pred)"
   ]
  },
  {
   "cell_type": "code",
   "execution_count": 7,
   "id": "966380b160d30c12",
   "metadata": {
    "ExecuteTime": {
     "end_time": "2024-05-18T03:22:56.520019Z",
     "start_time": "2024-05-18T03:22:54.947909Z"
    },
    "collapsed": false,
    "jupyter": {
     "outputs_hidden": false
    }
   },
   "outputs": [
    {
     "name": "stderr",
     "output_type": "stream",
     "text": [
      "2024-05-18 20:39:30.114602: I tensorflow/stream_executor/platform/default/dso_loader.cc:53] Successfully opened dynamic library libcuda.so.1\n",
      "2024-05-18 20:39:30.162293: I tensorflow/core/common_runtime/gpu/gpu_device.cc:1733] Found device 0 with properties: \n",
      "pciBusID: 0000:3e:00.0 name: NVIDIA GeForce RTX 2080 Ti computeCapability: 7.5\n",
      "coreClock: 1.545GHz coreCount: 68 deviceMemorySize: 10.75GiB deviceMemoryBandwidth: 573.69GiB/s\n",
      "2024-05-18 20:39:30.162348: I tensorflow/stream_executor/platform/default/dso_loader.cc:53] Successfully opened dynamic library libcudart.so.11.0\n",
      "2024-05-18 20:39:30.172939: I tensorflow/stream_executor/platform/default/dso_loader.cc:53] Successfully opened dynamic library libcublas.so.11\n",
      "2024-05-18 20:39:30.173062: I tensorflow/stream_executor/platform/default/dso_loader.cc:53] Successfully opened dynamic library libcublasLt.so.11\n",
      "2024-05-18 20:39:30.176331: I tensorflow/stream_executor/platform/default/dso_loader.cc:53] Successfully opened dynamic library libcufft.so.10\n",
      "2024-05-18 20:39:30.178852: I tensorflow/stream_executor/platform/default/dso_loader.cc:53] Successfully opened dynamic library libcurand.so.10\n",
      "2024-05-18 20:39:30.182307: I tensorflow/stream_executor/platform/default/dso_loader.cc:53] Successfully opened dynamic library libcusolver.so.11\n",
      "2024-05-18 20:39:30.184547: I tensorflow/stream_executor/platform/default/dso_loader.cc:53] Successfully opened dynamic library libcusparse.so.11\n",
      "2024-05-18 20:39:30.184776: I tensorflow/stream_executor/platform/default/dso_loader.cc:53] Successfully opened dynamic library libcudnn.so.8\n",
      "2024-05-18 20:39:30.185974: I tensorflow/core/common_runtime/gpu/gpu_device.cc:1871] Adding visible gpu devices: 0\n",
      "2024-05-18 20:39:30.187686: I tensorflow/core/platform/cpu_feature_guard.cc:142] This TensorFlow binary is optimized with oneAPI Deep Neural Network Library (oneDNN) to use the following CPU instructions in performance-critical operations:  AVX2 AVX512F FMA\n",
      "To enable them in other operations, rebuild TensorFlow with the appropriate compiler flags.\n",
      "2024-05-18 20:39:30.193625: I tensorflow/core/common_runtime/gpu/gpu_device.cc:1733] Found device 0 with properties: \n",
      "pciBusID: 0000:3e:00.0 name: NVIDIA GeForce RTX 2080 Ti computeCapability: 7.5\n",
      "coreClock: 1.545GHz coreCount: 68 deviceMemorySize: 10.75GiB deviceMemoryBandwidth: 573.69GiB/s\n",
      "2024-05-18 20:39:30.194656: I tensorflow/core/common_runtime/gpu/gpu_device.cc:1871] Adding visible gpu devices: 0\n",
      "2024-05-18 20:39:30.194715: I tensorflow/stream_executor/platform/default/dso_loader.cc:53] Successfully opened dynamic library libcudart.so.11.0\n",
      "2024-05-18 20:39:30.987917: I tensorflow/core/common_runtime/gpu/gpu_device.cc:1258] Device interconnect StreamExecutor with strength 1 edge matrix:\n",
      "2024-05-18 20:39:30.987941: I tensorflow/core/common_runtime/gpu/gpu_device.cc:1264]      0 \n",
      "2024-05-18 20:39:30.987947: I tensorflow/core/common_runtime/gpu/gpu_device.cc:1277] 0:   N \n",
      "2024-05-18 20:39:30.989710: I tensorflow/core/common_runtime/gpu/gpu_device.cc:1418] Created TensorFlow device (/job:localhost/replica:0/task:0/device:GPU:0 with 9650 MB memory) -> physical GPU (device: 0, name: NVIDIA GeForce RTX 2080 Ti, pci bus id: 0000:3e:00.0, compute capability: 7.5)\n"
     ]
    }
   ],
   "source": [
    "# 超参数设置与模型编译\n",
    "# 超参数\n",
    "batch_size = 2\n",
    "lr = 1e-5\n",
    "epochs = 30\n",
    "model_path = \"models/model.h5\"\n",
    "# 读取数据\n",
    "dataset_path = './data'\n",
    "(train_x, train_y), (val_x, val_y), (test_x, test_y) = load_data(dataset_path)\n",
    "# 训练集与验证集\n",
    "train_dataset = tf_dataset(train_x, train_y, batch=batch_size)\n",
    "val_dataset = tf_dataset(val_x, val_y, batch=batch_size)\n",
    "# 构建模型\n",
    "model = build_unet((512, 512, 3))\n",
    "# 评估准则\n",
    "metrics = [dice_coef, iou, Recall(), Precision()]\n",
    "# 编译模型\n",
    "model.compile(loss=dice_loss, optimizer=Adam(lr), metrics=metrics)"
   ]
  },
  {
   "cell_type": "code",
   "execution_count": 8,
   "id": "29e5ca35ead82bb1",
   "metadata": {
    "ExecuteTime": {
     "start_time": "2024-05-18T03:23:17.890978Z"
    },
    "collapsed": false,
    "is_executing": true,
    "jupyter": {
     "outputs_hidden": false
    }
   },
   "outputs": [
    {
     "name": "stderr",
     "output_type": "stream",
     "text": [
      "2024-05-18 20:39:31.725786: I tensorflow/compiler/mlir/mlir_graph_optimization_pass.cc:176] None of the MLIR Optimization Passes are enabled (registered 2)\n",
      "2024-05-18 20:39:31.745198: I tensorflow/core/platform/profile_utils/cpu_utils.cc:114] CPU Frequency: 2500000000 Hz\n"
     ]
    },
    {
     "name": "stdout",
     "output_type": "stream",
     "text": [
      "Epoch 1/30\n"
     ]
    },
    {
     "name": "stderr",
     "output_type": "stream",
     "text": [
      "2024-05-18 20:39:34.889399: I tensorflow/stream_executor/platform/default/dso_loader.cc:53] Successfully opened dynamic library libcudnn.so.8\n",
      "2024-05-18 20:39:35.761049: I tensorflow/stream_executor/cuda/cuda_dnn.cc:359] Loaded cuDNN version 8101\n",
      "2024-05-18 20:39:36.870280: I tensorflow/stream_executor/platform/default/dso_loader.cc:53] Successfully opened dynamic library libcublas.so.11\n",
      "2024-05-18 20:39:37.545364: I tensorflow/stream_executor/platform/default/dso_loader.cc:53] Successfully opened dynamic library libcublasLt.so.11\n"
     ]
    },
    {
     "name": "stdout",
     "output_type": "stream",
     "text": [
      "56/56 [==============================] - 54s 799ms/step - loss: 0.5351 - dice_coef: 0.4649 - iou: 0.3075 - recall: 0.7166 - precision: 0.5603 - val_loss: 0.6624 - val_dice_coef: 0.3450 - val_iou: 0.2097 - val_recall: 0.6469 - val_precision: 0.3378\n",
      "\n",
      "Epoch 00001: val_loss improved from inf to 0.66243, saving model to models/model.h5\n",
      "Epoch 2/30\n",
      "56/56 [==============================] - 47s 844ms/step - loss: 0.3450 - dice_coef: 0.6550 - iou: 0.4925 - recall: 0.9077 - precision: 0.7013 - val_loss: 0.6643 - val_dice_coef: 0.3374 - val_iou: 0.2036 - val_recall: 0.4189 - val_precision: 0.2937\n",
      "\n",
      "Epoch 00002: val_loss did not improve from 0.66243\n",
      "Epoch 3/30\n",
      "56/56 [==============================] - 47s 838ms/step - loss: 0.2171 - dice_coef: 0.7829 - iou: 0.6473 - recall: 0.9556 - precision: 0.8985 - val_loss: 0.6788 - val_dice_coef: 0.3262 - val_iou: 0.1962 - val_recall: 0.1362 - val_precision: 0.1580\n",
      "\n",
      "Epoch 00003: val_loss did not improve from 0.66243\n",
      "Epoch 4/30\n",
      "56/56 [==============================] - 47s 832ms/step - loss: 0.1626 - dice_coef: 0.8374 - iou: 0.7231 - recall: 0.9664 - precision: 0.9331 - val_loss: 0.7176 - val_dice_coef: 0.2842 - val_iou: 0.1663 - val_recall: 1.7904e-04 - val_precision: 0.0034\n",
      "\n",
      "Epoch 00004: val_loss did not improve from 0.66243\n",
      "Epoch 5/30\n",
      "56/56 [==============================] - 47s 830ms/step - loss: 0.1360 - dice_coef: 0.8640 - iou: 0.7624 - recall: 0.9652 - precision: 0.9472 - val_loss: 0.7773 - val_dice_coef: 0.2232 - val_iou: 0.1258 - val_recall: 3.6040e-05 - val_precision: 0.0044\n",
      "\n",
      "Epoch 00005: val_loss did not improve from 0.66243\n",
      "Epoch 6/30\n",
      "56/56 [==============================] - 46s 825ms/step - loss: 0.1179 - dice_coef: 0.8821 - iou: 0.7915 - recall: 0.9724 - precision: 0.9533 - val_loss: 0.8020 - val_dice_coef: 0.1922 - val_iou: 0.1067 - val_recall: 0.0000e+00 - val_precision: 0.0000e+00\n",
      "\n",
      "Epoch 00006: val_loss did not improve from 0.66243\n",
      "\n",
      "Epoch 00006: ReduceLROnPlateau reducing learning rate to 9.999999747378752e-07.\n",
      "Epoch 7/30\n",
      "56/56 [==============================] - 47s 830ms/step - loss: 0.1075 - dice_coef: 0.8925 - iou: 0.8075 - recall: 0.9726 - precision: 0.9639 - val_loss: 0.8491 - val_dice_coef: 0.1490 - val_iou: 0.0805 - val_recall: 0.0000e+00 - val_precision: 0.0000e+00\n",
      "\n",
      "Epoch 00007: val_loss did not improve from 0.66243\n",
      "Epoch 8/30\n",
      "56/56 [==============================] - 47s 839ms/step - loss: 0.1051 - dice_coef: 0.8949 - iou: 0.8111 - recall: 0.9744 - precision: 0.9641 - val_loss: 0.8677 - val_dice_coef: 0.1331 - val_iou: 0.0713 - val_recall: 0.0039 - val_precision: 0.9446\n",
      "\n",
      "Epoch 00008: val_loss did not improve from 0.66243\n",
      "Epoch 9/30\n",
      "56/56 [==============================] - 47s 837ms/step - loss: 0.1055 - dice_coef: 0.8945 - iou: 0.8105 - recall: 0.9739 - precision: 0.9657 - val_loss: 0.8341 - val_dice_coef: 0.1631 - val_iou: 0.0900 - val_recall: 0.0409 - val_precision: 0.9722\n",
      "\n",
      "Epoch 00009: val_loss did not improve from 0.66243\n",
      "Epoch 10/30\n",
      "56/56 [==============================] - 47s 831ms/step - loss: 0.1054 - dice_coef: 0.8946 - iou: 0.8115 - recall: 0.9755 - precision: 0.9649 - val_loss: 0.7107 - val_dice_coef: 0.2809 - val_iou: 0.1682 - val_recall: 0.1543 - val_precision: 0.9700\n",
      "\n",
      "Epoch 00010: val_loss did not improve from 0.66243\n",
      "Epoch 11/30\n",
      "56/56 [==============================] - 47s 830ms/step - loss: 0.1013 - dice_coef: 0.8987 - iou: 0.8170 - recall: 0.9764 - precision: 0.9652 - val_loss: 0.4585 - val_dice_coef: 0.5463 - val_iou: 0.3824 - val_recall: 0.3981 - val_precision: 0.9703\n",
      "\n",
      "Epoch 00011: val_loss improved from 0.66243 to 0.45846, saving model to models/model.h5\n",
      "Epoch 12/30\n",
      "56/56 [==============================] - 47s 833ms/step - loss: 0.1013 - dice_coef: 0.8987 - iou: 0.8174 - recall: 0.9760 - precision: 0.9671 - val_loss: 0.1994 - val_dice_coef: 0.8034 - val_iou: 0.6751 - val_recall: 0.7787 - val_precision: 0.9682\n",
      "\n",
      "Epoch 00012: val_loss improved from 0.45846 to 0.19941, saving model to models/model.h5\n",
      "Epoch 13/30\n",
      "56/56 [==============================] - 47s 838ms/step - loss: 0.0992 - dice_coef: 0.9008 - iou: 0.8206 - recall: 0.9761 - precision: 0.9682 - val_loss: 0.1209 - val_dice_coef: 0.8786 - val_iou: 0.7843 - val_recall: 0.9349 - val_precision: 0.9634\n",
      "\n",
      "Epoch 00013: val_loss improved from 0.19941 to 0.12095, saving model to models/model.h5\n",
      "Epoch 14/30\n",
      "56/56 [==============================] - 46s 826ms/step - loss: 0.0995 - dice_coef: 0.9005 - iou: 0.8206 - recall: 0.9773 - precision: 0.9680 - val_loss: 0.1137 - val_dice_coef: 0.8887 - val_iou: 0.8011 - val_recall: 0.9457 - val_precision: 0.9595\n",
      "\n",
      "Epoch 00014: val_loss improved from 0.12095 to 0.11367, saving model to models/model.h5\n",
      "Epoch 15/30\n",
      "56/56 [==============================] - 47s 830ms/step - loss: 0.0971 - dice_coef: 0.9029 - iou: 0.8246 - recall: 0.9771 - precision: 0.9689 - val_loss: 0.1118 - val_dice_coef: 0.8899 - val_iou: 0.8024 - val_recall: 0.9463 - val_precision: 0.9585\n",
      "\n",
      "Epoch 00015: val_loss improved from 0.11367 to 0.11185, saving model to models/model.h5\n",
      "Epoch 16/30\n",
      "56/56 [==============================] - 47s 840ms/step - loss: 0.0956 - dice_coef: 0.9044 - iou: 0.8265 - recall: 0.9772 - precision: 0.9685 - val_loss: 0.1142 - val_dice_coef: 0.8830 - val_iou: 0.7921 - val_recall: 0.9487 - val_precision: 0.9575\n",
      "\n",
      "Epoch 00016: val_loss did not improve from 0.11185\n",
      "Epoch 17/30\n",
      "56/56 [==============================] - 46s 823ms/step - loss: 0.0966 - dice_coef: 0.9034 - iou: 0.8253 - recall: 0.9768 - precision: 0.9689 - val_loss: 0.1143 - val_dice_coef: 0.8880 - val_iou: 0.8010 - val_recall: 0.9480 - val_precision: 0.9565\n",
      "\n",
      "Epoch 00017: val_loss did not improve from 0.11185\n",
      "Epoch 18/30\n",
      "56/56 [==============================] - 46s 827ms/step - loss: 0.0956 - dice_coef: 0.9044 - iou: 0.8268 - recall: 0.9767 - precision: 0.9696 - val_loss: 0.1112 - val_dice_coef: 0.8908 - val_iou: 0.8044 - val_recall: 0.9511 - val_precision: 0.9532\n",
      "\n",
      "Epoch 00018: val_loss improved from 0.11185 to 0.11122, saving model to models/model.h5\n",
      "Epoch 19/30\n",
      "56/56 [==============================] - 46s 823ms/step - loss: 0.0947 - dice_coef: 0.9053 - iou: 0.8284 - recall: 0.9779 - precision: 0.9695 - val_loss: 0.1138 - val_dice_coef: 0.8897 - val_iou: 0.8035 - val_recall: 0.9510 - val_precision: 0.9528\n",
      "\n",
      "Epoch 00019: val_loss did not improve from 0.11122\n",
      "Epoch 20/30\n",
      "56/56 [==============================] - 47s 833ms/step - loss: 0.0926 - dice_coef: 0.9074 - iou: 0.8316 - recall: 0.9770 - precision: 0.9715 - val_loss: 0.1129 - val_dice_coef: 0.8894 - val_iou: 0.8037 - val_recall: 0.9479 - val_precision: 0.9567\n",
      "\n",
      "Epoch 00020: val_loss did not improve from 0.11122\n",
      "Epoch 21/30\n",
      "56/56 [==============================] - 46s 814ms/step - loss: 0.0916 - dice_coef: 0.9084 - iou: 0.8334 - recall: 0.9783 - precision: 0.9706 - val_loss: 0.1148 - val_dice_coef: 0.8856 - val_iou: 0.7976 - val_recall: 0.9500 - val_precision: 0.9538\n",
      "\n",
      "Epoch 00021: val_loss did not improve from 0.11122\n",
      "Epoch 22/30\n",
      "56/56 [==============================] - 47s 844ms/step - loss: 0.0894 - dice_coef: 0.9106 - iou: 0.8367 - recall: 0.9779 - precision: 0.9719 - val_loss: 0.1079 - val_dice_coef: 0.8945 - val_iou: 0.8108 - val_recall: 0.9491 - val_precision: 0.9573\n",
      "\n",
      "Epoch 00022: val_loss improved from 0.11122 to 0.10787, saving model to models/model.h5\n",
      "Epoch 23/30\n",
      "56/56 [==============================] - 47s 842ms/step - loss: 0.0874 - dice_coef: 0.9126 - iou: 0.8400 - recall: 0.9793 - precision: 0.9717 - val_loss: 0.1078 - val_dice_coef: 0.8955 - val_iou: 0.8127 - val_recall: 0.9506 - val_precision: 0.9556\n",
      "\n",
      "Epoch 00023: val_loss improved from 0.10787 to 0.10776, saving model to models/model.h5\n",
      "Epoch 24/30\n",
      "56/56 [==============================] - 47s 829ms/step - loss: 0.0881 - dice_coef: 0.9119 - iou: 0.8390 - recall: 0.9793 - precision: 0.9719 - val_loss: 0.1096 - val_dice_coef: 0.8907 - val_iou: 0.8047 - val_recall: 0.9479 - val_precision: 0.9587\n",
      "\n",
      "Epoch 00024: val_loss did not improve from 0.10776\n",
      "Epoch 25/30\n",
      "56/56 [==============================] - 47s 829ms/step - loss: 0.0888 - dice_coef: 0.9112 - iou: 0.8382 - recall: 0.9789 - precision: 0.9718 - val_loss: 0.1053 - val_dice_coef: 0.8879 - val_iou: 0.8006 - val_recall: 0.9511 - val_precision: 0.9564\n",
      "\n",
      "Epoch 00025: val_loss improved from 0.10776 to 0.10531, saving model to models/model.h5\n",
      "Epoch 26/30\n",
      "56/56 [==============================] - 46s 824ms/step - loss: 0.0839 - dice_coef: 0.9161 - iou: 0.8459 - recall: 0.9799 - precision: 0.9741 - val_loss: 0.1071 - val_dice_coef: 0.8953 - val_iou: 0.8121 - val_recall: 0.9506 - val_precision: 0.9558\n",
      "\n",
      "Epoch 00026: val_loss did not improve from 0.10531\n",
      "Epoch 27/30\n",
      "56/56 [==============================] - 46s 821ms/step - loss: 0.0859 - dice_coef: 0.9141 - iou: 0.8428 - recall: 0.9788 - precision: 0.9732 - val_loss: 0.1085 - val_dice_coef: 0.8935 - val_iou: 0.8108 - val_recall: 0.9527 - val_precision: 0.9549\n",
      "\n",
      "Epoch 00027: val_loss did not improve from 0.10531\n",
      "Epoch 28/30\n",
      "56/56 [==============================] - 46s 828ms/step - loss: 0.0863 - dice_coef: 0.9137 - iou: 0.8423 - recall: 0.9790 - precision: 0.9735 - val_loss: 0.1078 - val_dice_coef: 0.8893 - val_iou: 0.8035 - val_recall: 0.9509 - val_precision: 0.9573\n",
      "\n",
      "Epoch 00028: val_loss did not improve from 0.10531\n",
      "Epoch 29/30\n",
      "56/56 [==============================] - 46s 820ms/step - loss: 0.0845 - dice_coef: 0.9155 - iou: 0.8452 - recall: 0.9794 - precision: 0.9741 - val_loss: 0.1095 - val_dice_coef: 0.8831 - val_iou: 0.7947 - val_recall: 0.9502 - val_precision: 0.9576\n",
      "\n",
      "Epoch 00029: val_loss did not improve from 0.10531\n",
      "Epoch 30/30\n",
      "56/56 [==============================] - 46s 826ms/step - loss: 0.0843 - dice_coef: 0.9157 - iou: 0.8457 - recall: 0.9795 - precision: 0.9737 - val_loss: 0.1059 - val_dice_coef: 0.8956 - val_iou: 0.8132 - val_recall: 0.9547 - val_precision: 0.9527\n",
      "\n",
      "Epoch 00030: val_loss did not improve from 0.10531\n",
      "\n",
      "Epoch 00030: ReduceLROnPlateau reducing learning rate to 9.999999974752428e-08.\n"
     ]
    }
   ],
   "source": [
    "# 回调函数\n",
    "callbacks = [\n",
    "        ModelCheckpoint(model_path, verbose=1, save_best_only=True),\n",
    "        ReduceLROnPlateau(monitor='val_loss', factor=0.1, patience=5, min_lr=1e-8, verbose=1)\n",
    "        ]\n",
    "# 模型训练\n",
    "history = model.fit(\n",
    "        train_dataset,\n",
    "        epochs=epochs,\n",
    "        validation_data=val_dataset,\n",
    "        callbacks=callbacks\n",
    "    )"
   ]
  },
  {
   "cell_type": "code",
   "execution_count": 11,
   "id": "6bbf7072049ce8e5",
   "metadata": {
    "collapsed": false,
    "jupyter": {
     "outputs_hidden": false
    }
   },
   "outputs": [
    {
     "name": "stderr",
     "output_type": "stream",
     "text": [
      "100%|██████████| 13/13 [00:06<00:00,  1.96it/s]\n"
     ]
    }
   ],
   "source": [
    "# 重新载入模型\n",
    "from tensorflow.keras.utils import CustomObjectScope\n",
    "with CustomObjectScope({'iou': iou, 'dice_coef': dice_coef, 'dice_loss': dice_loss}):\n",
    "  model = tf.keras.models.load_model(\"./models/model.h5\")\n",
    "# 测试集预估\n",
    "from tqdm import tqdm\n",
    "import matplotlib.pyplot as plt\n",
    "ct=0\n",
    "# 遍历测试集\n",
    "for x, y in tqdm(zip(test_x, test_y), total=len(test_x)):\n",
    "    \"\"\" Extracing the image name. \"\"\"\n",
    "    image_name = x.split(\"/\")[-1]\n",
    "    # 读取测试图片集\n",
    "    ori_x = cv2.imread(x, cv2.IMREAD_COLOR)\n",
    "    ori_x = cv2.resize(ori_x, (512, 512))\n",
    "    x = ori_x/255.0\n",
    "    x = x.astype(np.float32)\n",
    "    x = np.expand_dims(x, axis=0)\n",
    "    # 读取标签信息\n",
    "    ori_y = cv2.imread(y, cv2.IMREAD_GRAYSCALE)\n",
    "    ori_y = cv2.resize(ori_y, (512, 512))\n",
    "    ori_y = np.expand_dims(ori_y, axis=-1)  ## (512, 512, 1)\n",
    "    ori_y = np.concatenate([ori_y, ori_y, ori_y], axis=-1)  ## (512, 512, 3)\n",
    "    # 预估\n",
    "    y_pred = model.predict(x)[0] > 0.5\n",
    "    y_pred = y_pred.astype(np.int32)\n",
    "    #plt.imshow(y_pred)\n",
    "    # 存储预估结果mask\n",
    "    save_image_path = \"./\"+str(ct)+\".png\"\n",
    "    ct+=1\n",
    "    y_pred = np.concatenate([y_pred, y_pred, y_pred], axis=-1)\n",
    "    sep_line = np.ones((512, 10, 3)) * 255\n",
    "    cat_image = np.concatenate([ori_x, sep_line, ori_y, sep_line, y_pred*255], axis=1)\n",
    "    cv2.imwrite(save_image_path, cat_image)"
   ]
  },
  {
   "cell_type": "code",
   "execution_count": null,
   "id": "6c34c929-a0d0-4e64-9dc8-716929237a89",
   "metadata": {},
   "outputs": [],
   "source": []
  }
 ],
 "metadata": {
  "kernelspec": {
   "display_name": "Python 3 (ipykernel)",
   "language": "python",
   "name": "python3"
  },
  "language_info": {
   "codemirror_mode": {
    "name": "ipython",
    "version": 3
   },
   "file_extension": ".py",
   "mimetype": "text/x-python",
   "name": "python",
   "nbconvert_exporter": "python",
   "pygments_lexer": "ipython3",
   "version": "3.8.10"
  }
 },
 "nbformat": 4,
 "nbformat_minor": 5
}
